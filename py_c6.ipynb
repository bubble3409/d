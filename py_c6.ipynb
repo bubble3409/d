{
 "cells": [
  {
   "cell_type": "markdown",
   "metadata": {},
   "source": [
    "# 6-2    3과 5의 배수 합하기"
   ]
  },
  {
   "cell_type": "code",
   "execution_count": null,
   "metadata": {},
   "outputs": [],
   "source": [
    "result = 0\n",
    "for n in range(1, 1000):\n",
    "    if n % 3 ==0 :\n",
    "        result += n\n",
    "    if n % 5 == 0:\n",
    "        result += n\n",
    "print(result)"
   ]
  },
  {
   "cell_type": "markdown",
   "metadata": {},
   "source": [
    "위의 풀이는 15와 같이 3과 5의 배수를 이중으로 더하는 잘못된 풀이!\n",
    "중복을 방지하기 위해 or 연산자 사용 "
   ]
  },
  {
   "cell_type": "code",
   "execution_count": null,
   "metadata": {},
   "outputs": [],
   "source": [
    "result = 0\n",
    "for n in range(1, 1000):\n",
    "    if n % 3 ==0 or n % 5 == 0:\n",
    "        result += n\n",
    "print(result)"
   ]
  },
  {
   "cell_type": "code",
   "execution_count": null,
   "metadata": {},
   "outputs": [],
   "source": []
  },
  {
   "cell_type": "markdown",
   "metadata": {},
   "source": [
    "# 6-3  게시판 페이징하기\n",
    "## 총 페이지수 = (총 건수/ 한 페이지에 들어가는 건수) +1 "
   ]
  },
  {
   "cell_type": "code",
   "execution_count": null,
   "metadata": {},
   "outputs": [],
   "source": [
    "def Page(m,n):\n",
    "    return m // n+1\n",
    "\n",
    "print(page(5,10))  #1출력\n",
    "print(page(30,10))  #4출력 --> 딱 맞는 경우 실패케이스 有"
   ]
  },
  {
   "cell_type": "code",
   "execution_count": null,
   "metadata": {},
   "outputs": [],
   "source": [
    "def Page(m,n):\n",
    "    if m % n== 0:\n",
    "        return m // n\n",
    "    else:\n",
    "        return m // n +1"
   ]
  },
  {
   "cell_type": "code",
   "execution_count": null,
   "metadata": {},
   "outputs": [],
   "source": []
  },
  {
   "cell_type": "markdown",
   "metadata": {},
   "source": [
    "# 6-4 간단한 메모장 만들기\n",
    "\n",
    "\n",
    "## 1. 메모추가하기, 메모 조회하기\n",
    "\n",
    "### 입력 값- 메모 내용(\"Life is too short\"), 프로그램 실행 옵션(-a)\n",
    "### 출력 값- memo.txt\n",
    "### 옵션- 메모추가(-a 옵션),  메모출력( -v 옵션)"
   ]
  },
  {
   "cell_type": "markdown",
   "metadata": {},
   "source": [
    "### 1. 메모 추가옵션 (-a)"
   ]
  },
  {
   "cell_type": "code",
   "execution_count": null,
   "metadata": {},
   "outputs": [],
   "source": [
    "#### memo.py\n",
    "import sys\n",
    "\n",
    "option = sys.argv[1]\n",
    "memo= sys.argv[2]\n",
    "\n",
    "print(option)\n",
    "print(memo)"
   ]
  },
  {
   "cell_type": "markdown",
   "metadata": {},
   "source": [
    "#### cmd에서 \n",
    "C:/doit>python memo.py -a \"Life is too short\" 입력하면\n",
    "-a\n",
    "Life is too short 출력됨"
   ]
  },
  {
   "cell_type": "code",
   "execution_count": null,
   "metadata": {},
   "outputs": [],
   "source": []
  },
  {
   "cell_type": "code",
   "execution_count": null,
   "metadata": {},
   "outputs": [],
   "source": [
    "#### memo.py\n",
    "import sys\n",
    "\n",
    "option = sys.argv[1]\n",
    "\n",
    "if option == '-a':\n",
    "    memo= sys.argv[2]\n",
    "    f= open('memo.txt', 'a')\n",
    "    f.write(memo)\n",
    "    f.write('\\n')\n",
    "    f.close() "
   ]
  },
  {
   "cell_type": "code",
   "execution_count": null,
   "metadata": {},
   "outputs": [],
   "source": [
    "#### cmd에서\n",
    "C:/doit>python memo.py -a \"Life is too short\"\n",
    "C:/doit>python memo.py -a \"You need python\"  치고\n",
    "\n",
    "C:/doit>type memo.txt 입력하면\n",
    "Life is too short\n",
    "You need pyhon 출력되고, 메모가 저장되어 있음 "
   ]
  },
  {
   "cell_type": "markdown",
   "metadata": {},
   "source": [
    "### 2. 메모 출력옵션(-v)  "
   ]
  },
  {
   "cell_type": "code",
   "execution_count": null,
   "metadata": {},
   "outputs": [],
   "source": [
    "#### memo.py\n",
    "import sys\n",
    "\n",
    "option = sys.argv[1]\n",
    "\n",
    "if option == '-a':\n",
    "    memo= sys.argv[2]\n",
    "    f= open('memo.txt', 'a')\n",
    "    f.write(memo)\n",
    "    f.write('\\n')\n",
    "    f.close()\n",
    "elif option == '-v':\n",
    "    f = open('memo.txt')\n",
    "    memo= f.read()\n",
    "    f.close()\n",
    "    print(memo)"
   ]
  },
  {
   "cell_type": "markdown",
   "metadata": {},
   "source": [
    "#### cmd에서 \n",
    "C:/doit>python memo.py -v 입력하면\n",
    "\n",
    "Life is too short\n",
    "You need python 출력됨"
   ]
  },
  {
   "cell_type": "code",
   "execution_count": null,
   "metadata": {},
   "outputs": [],
   "source": []
  },
  {
   "cell_type": "markdown",
   "metadata": {},
   "source": [
    "# 6-5 탭을 4개의 공백으로 바꾸기\n",
    "\n",
    "\n",
    "## 1. 문서 파일 읽어들이기, 문자열 변경하기\n",
    "\n",
    "### 입력 값- 탭을 포함한 문서파일 (src)\n",
    "### 출력 값- 탭이 공백으로 수정된 문서파일 (dst)"
   ]
  },
  {
   "cell_type": "code",
   "execution_count": 4,
   "metadata": {},
   "outputs": [
    {
     "name": "stdout",
     "output_type": "stream",
     "text": [
      "-f\n",
      "C:\\Users\\bubbl\\AppData\\Roaming\\jupyter\\runtime\\kernel-c63df54c-be08-4af4-bc7b-7f799529a2c9.json\n"
     ]
    }
   ],
   "source": [
    "import sys\n",
    "src = sys.argv[1]\n",
    "dst = sys.argv[2]\n",
    "\n",
    "print(src)\n",
    "print(dst)"
   ]
  },
  {
   "cell_type": "markdown",
   "metadata": {},
   "source": [
    "### cmd에서 \n",
    "C:\\doit> python tabto4.py a.txt b.txt\n",
    "a.txt\n",
    "b.txt 출력됨\n",
    "\n",
    "### a.txt 작성\n",
    "    Life  (\\t)  is   (\\t) too (\\t)short\n",
    "    You  (\\t) need  (\\t) python"
   ]
  },
  {
   "cell_type": "markdown",
   "metadata": {},
   "source": [
    "import sys\n",
    "src = sys.argv[1]\n",
    "dst = sys.argv[2]\n",
    "\n",
    "f=open(src)\n",
    "tab_content = f.read()\n",
    "f.close()\n",
    "\n",
    "space_content= tab_content.replace(\"\\t\", \" \"*4)\n",
    "print(space_content)"
   ]
  },
  {
   "cell_type": "code",
   "execution_count": null,
   "metadata": {},
   "outputs": [],
   "source": []
  },
  {
   "cell_type": "markdown",
   "metadata": {},
   "source": [
    "# 6-6 하위 디렉터리 검색하기\n",
    "\n",
    "\n",
    "## 특정 디렉터리부터 그 하위 모든 파일 중에 .py만 출력"
   ]
  },
  {
   "cell_type": "code",
   "execution_count": null,
   "metadata": {},
   "outputs": [],
   "source": [
    "# sub_dir_search.py\n",
    "\n",
    " def search(dirname):\n",
    "        print(dirname)\n",
    "search(\"C:/\")"
   ]
  },
  {
   "cell_type": "markdown",
   "metadata": {},
   "source": [
    "os.listdir ---> 디렉터리에 있는 파일의 리스트 구함 (파일 이름만 포함된 상태)\n",
    "경로를 포함한 파일 이름을 구하기 위해서 ---> dirname을 앞에 덧붙여줌\n",
    "\n",
    "os모듈에는 디렉터리와 파일이름을 이어주는 os.path.join 함수 이용"
   ]
  },
  {
   "cell_type": "code",
   "execution_count": null,
   "metadata": {},
   "outputs": [],
   "source": [
    "# sub_dir_search.py\n",
    "import os\n",
    "\n",
    "def search(dirname):\n",
    "    filenames = os.listdir(dirname)\n",
    "    for filename in filenames:\n",
    "        full_filename = os.path.join(dirname, filename)\n",
    "        print(full_filename)\n",
    "\n",
    "search(\"C:/\")"
   ]
  },
  {
   "cell_type": "markdown",
   "metadata": {},
   "source": [
    "====================== RESTART: C:/doit/sub_dir_search.py ======================\n",
    "C:/!!!#1(5023747)\n",
    "C:/$Recycle.Bin\n",
    "C:/@!dkMKe\n",
    "C:/agentlog.txt\n",
    "C:/anaconda3\n",
    "C:/bootTel.dat\n",
    "C:/Documents and Settings\n",
    "C:/doit\n",
    "C:/end\n",
    "C:/GPKI\n",
    "C:/hiberfil.sys\n",
    "C:/Intel\n",
    "C:/OneDriveTemp\n",
    "C:/pagefile.sys\n",
    "C:/PerfLogs\n",
    "C:/Program Files\n",
    "C:/Program Files (x86)\n",
    "C:/ProgramData\n",
    "C:/RansomDefenderBackup\n",
    "C:/recovery\n",
    "C:/rhdsetup.log\n",
    "C:/Setup.log\n",
    "C:/swapfile.sys\n",
    "C:/SYS\n",
    "C:/System Volume Information\n",
    "C:/Temp\n",
    "C:/Users\n",
    "C:/User_manual\n",
    "C:/Windows\n",
    "C:/XecureSSL\n",
    "C:/yes   이런거 막 출력됨"
   ]
  },
  {
   "cell_type": "markdown",
   "metadata": {},
   "source": [
    "### C:/ 디렉터리에 있는 파일 중에 .py인 파일만 출력하려면?\n",
    "1. 디렉터리 바로 밑에 있는 파일에서 .py 파일 찾기"
   ]
  },
  {
   "cell_type": "code",
   "execution_count": null,
   "metadata": {},
   "outputs": [],
   "source": [
    "# sub_dir_search.py\n",
    "import os\n",
    "\n",
    "def search(dirname):\n",
    "    filenames = os.listdir(dirname)\n",
    "    for filename in filenames:\n",
    "        full_filename = os.path.join(dirname, filename)\n",
    "        ext = os.path.splitext(full_filename)[-1]\n",
    "        if ext == '.py' :\n",
    "            print(full_filename)\n",
    "\n",
    "search(\"C:/\")"
   ]
  },
  {
   "cell_type": "markdown",
   "metadata": {},
   "source": [
    "2. C:/ 디렉터리 안의 하위 디렉터리(sub directory) 에서 .py 파일 검색 "
   ]
  },
  {
   "cell_type": "code",
   "execution_count": null,
   "metadata": {},
   "outputs": [],
   "source": [
    "# sub_dir_search.py\n",
    "import os\n",
    "\n",
    "def search(dirname):\n",
    "    try:\n",
    "        filenames = os.listdir(dirname)\n",
    "        for filename in filenames:\n",
    "            full_filename = os.path.join(dirname, filename)\n",
    "            if os.path.indir(full_filename):\n",
    "                searh(full_filename):\n",
    "            else:\n",
    "                ext = os.path.splitext(full_filename)[-1]\n",
    "                if ext == '.py' :\n",
    "                    print(full_filename)\n",
    "    except PermissionError:\n",
    "        pass\n",
    "    \n",
    "\n",
    "search(\"C:/\")\n"
   ]
  },
  {
   "cell_type": "markdown",
   "metadata": {},
   "source": [
    "* try . . . except PermissionError: 는 os.listdir를 수행할 때 권한이 없는 디렉터리에 접근하더라도 프로그램이 오류로 종료되지 않고 그냥 수행되도록\n",
    "* full filename이 디렉터리인지 파일인지 구별하기 위하여 os.path.isdir 함수를 사용 \n",
    "* 디렉터리일 경우 해당 경로를 입력받아 다시 search 함수를 호출하였다. 이렇게 해당 디렉터리의 파일이 디렉터리일 경우 다시 search 함수를 호출해 나가면 (재귀 호출) 해당 디렉터리의 하위 파일을 다시 검색하여 모든 파일 검색 가능\n",
    "\n",
    "※ 재귀 호출이란 자기 자신을 다시 호출하는 프로그래밍 기법- > 이 코드에서 보면\n",
    "search 함수에서 다시 자기 자신인 search 함수를 호출하는 것이 바로 재귀 호출\n"
   ]
  },
  {
   "cell_type": "markdown",
   "metadata": {},
   "source": [
    "### os.walk  -- > 하위 디렉터리 검색을 쉽게 해줌"
   ]
  },
  {
   "cell_type": "code",
   "execution_count": null,
   "metadata": {},
   "outputs": [],
   "source": [
    "import os\n",
    "\n",
    "for (path, dir, files) in os.walk(\"C:/\"):\n",
    "    for filename in files:\n",
    "        ext = os.path.splitext(filename)[-1]\n",
    "        if ext ==  '.py':\n",
    "            print(\"%s%s\" %(path, filename))"
   ]
  },
  {
   "cell_type": "code",
   "execution_count": null,
   "metadata": {},
   "outputs": [],
   "source": []
  }
 ],
 "metadata": {
  "kernelspec": {
   "display_name": "Python 3",
   "language": "python",
   "name": "python3"
  },
  "language_info": {
   "codemirror_mode": {
    "name": "ipython",
    "version": 3
   },
   "file_extension": ".py",
   "mimetype": "text/x-python",
   "name": "python",
   "nbconvert_exporter": "python",
   "pygments_lexer": "ipython3",
   "version": "3.8.3"
  }
 },
 "nbformat": 4,
 "nbformat_minor": 4
}
